{
  "nbformat": 4,
  "nbformat_minor": 0,
  "metadata": {
    "colab": {
      "provenance": [],
      "authorship_tag": "ABX9TyN4J3QmayvgmbJHvcudoP7b",
      "include_colab_link": true
    },
    "kernelspec": {
      "name": "python3",
      "display_name": "Python 3"
    },
    "language_info": {
      "name": "python"
    }
  },
  "cells": [
    {
      "cell_type": "markdown",
      "metadata": {
        "id": "view-in-github",
        "colab_type": "text"
      },
      "source": [
        "<a href=\"https://colab.research.google.com/github/newmantic/forward_start_option/blob/main/forward_start_option.ipynb\" target=\"_parent\"><img src=\"https://colab.research.google.com/assets/colab-badge.svg\" alt=\"Open In Colab\"/></a>"
      ]
    },
    {
      "cell_type": "code",
      "execution_count": 1,
      "metadata": {
        "colab": {
          "base_uri": "https://localhost:8080/"
        },
        "id": "cuIgwjK7h9hK",
        "outputId": "128043d6-cfb1-4566-9fea-6b3fecbbe008"
      },
      "outputs": [
        {
          "output_type": "stream",
          "name": "stdout",
          "text": [
            "Simulated Final Price: 116.01\n",
            "Payoff of the Forward Start Option: 6.01\n"
          ]
        }
      ],
      "source": [
        "import numpy as np\n",
        "\n",
        "class ForwardStartOption:\n",
        "    def __init__(self, start_price, forward_start_time, maturity, risk_free_rate, volatility, is_call=True):\n",
        "        \"\"\"\n",
        "        Initializes the Forward Start Option.\n",
        "\n",
        "        :param start_price: The price of the underlying asset at the inception of the option\n",
        "        :param forward_start_time: The time (in years) at which the strike price is set\n",
        "        :param maturity: The time (in years) until the option expires after the strike price is set\n",
        "        :param risk_free_rate: The risk-free interest rate\n",
        "        :param volatility: The volatility of the underlying asset\n",
        "        :param is_call: True for Call option, False for Put option\n",
        "        \"\"\"\n",
        "        self.start_price = start_price\n",
        "        self.forward_start_time = forward_start_time\n",
        "        self.maturity = maturity\n",
        "        self.risk_free_rate = risk_free_rate\n",
        "        self.volatility = volatility\n",
        "        self.is_call = is_call\n",
        "        self.strike_price = None\n",
        "\n",
        "    def set_strike_price(self, strike_price):\n",
        "        \"\"\"\n",
        "        Sets the strike price of the option at the forward start time.\n",
        "\n",
        "        :param strike_price: The price of the underlying asset at the forward start time\n",
        "        \"\"\"\n",
        "        self.strike_price = strike_price\n",
        "\n",
        "    def calculate_payoff(self, final_price):\n",
        "        \"\"\"\n",
        "        Calculates the payoff of the Forward Start Option.\n",
        "\n",
        "        :param final_price: The price of the underlying asset at maturity\n",
        "        :return: The payoff amount\n",
        "        \"\"\"\n",
        "        if self.strike_price is None:\n",
        "            raise ValueError(\"Strike price has not been set. Set the strike price using set_strike_price().\")\n",
        "\n",
        "        if self.is_call:\n",
        "            return max(final_price - self.strike_price, 0)\n",
        "        else:\n",
        "            return max(self.strike_price - final_price, 0)\n",
        "\n",
        "    def simulate_final_price(self):\n",
        "        \"\"\"\n",
        "        Simulates the final price of the underlying asset at maturity using the Geometric Brownian Motion model.\n",
        "\n",
        "        :return: Simulated final price of the underlying asset at maturity\n",
        "        \"\"\"\n",
        "        dt = self.maturity\n",
        "        random_shock = np.random.normal(0, 1)\n",
        "        final_price = self.strike_price * np.exp(\n",
        "            (self.risk_free_rate - 0.5 * self.volatility ** 2) * dt + self.volatility * np.sqrt(dt) * random_shock\n",
        "        )\n",
        "        return final_price\n",
        "\n",
        "# Example usage\n",
        "if __name__ == \"__main__\":\n",
        "    # Parameters for the Forward Start Option\n",
        "    start_price = 100\n",
        "    forward_start_time = 1.0  # Strike price is set in 1 year\n",
        "    maturity = 1.0  # Option matures 1 year after the strike price is set\n",
        "    risk_free_rate = 0.05  # 5% risk-free rate\n",
        "    volatility = 0.2  # 20% volatility\n",
        "\n",
        "    # Create a Forward Start Option instance\n",
        "    forward_option = ForwardStartOption(\n",
        "        start_price=start_price,\n",
        "        forward_start_time=forward_start_time,\n",
        "        maturity=maturity,\n",
        "        risk_free_rate=risk_free_rate,\n",
        "        volatility=volatility,\n",
        "        is_call=True\n",
        "    )\n",
        "\n",
        "    # Assume the underlying price at the forward start time is 110\n",
        "    forward_option.set_strike_price(110)\n",
        "\n",
        "    # Simulate the final price of the underlying asset at maturity\n",
        "    final_price = forward_option.simulate_final_price()\n",
        "    print(f\"Simulated Final Price: {final_price:.2f}\")\n",
        "\n",
        "    # Calculate the payoff of the Forward Start Option\n",
        "    payoff = forward_option.calculate_payoff(final_price)\n",
        "    print(f\"Payoff of the Forward Start Option: {payoff:.2f}\")"
      ]
    }
  ]
}